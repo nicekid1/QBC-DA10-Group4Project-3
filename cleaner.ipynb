{
 "cells": [
  {
   "cell_type": "code",
   "execution_count": 1,
   "id": "c661f35a",
   "metadata": {},
   "outputs": [],
   "source": [
    "import json\n",
    "import pandas as pd\n",
    "import numpy as np\n",
    "import mysql.connector"
   ]
  },
  {
   "cell_type": "code",
   "execution_count": 5,
   "id": "cbac9c73",
   "metadata": {},
   "outputs": [],
   "source": [
    "# Getting the users data from database_init.json (add it to .gitignore)\n",
    "with open('database_init.json') as file:\n",
    "    db_config = json.load(file)"
   ]
  },
  {
   "cell_type": "code",
   "execution_count": null,
   "id": "42521d6a",
   "metadata": {},
   "outputs": [],
   "source": [
    "db_name = \"NBA_DB\"\n",
    "try:\n",
    "    temp_config = db_config.copy()\n",
    "    cnxn = mysql.connector.connect(**temp_config)\n",
    "    cursor = cnxn.cursor()\n",
    "    \n",
    "    cursor.execute(f\"CREATE DATABASE IF NOT EXISTS {db_name} CHARACTER SET utf8mb4_unicode_ci\")\n",
    "    print(f\"Database '{db_name}' created or already exists.\")\n",
    "    \n",
    "    cnxn.database = db_name\n",
    "    \n",
    "    \n",
    "except mysql.connector.Error as err:\n",
    "    print(f\"Error!!: {err}\")\n",
    "finally:\n",
    "    if 'cnxn' in locals() and cnxn.is_connected():\n",
    "        cursor.close()\n",
    "        cnxn.close()\n",
    "        print(\"Connection Closed.\")"
   ]
  }
 ],
 "metadata": {
  "kernelspec": {
   "display_name": "QBX",
   "language": "python",
   "name": "python3"
  },
  "language_info": {
   "codemirror_mode": {
    "name": "ipython",
    "version": 3
   },
   "file_extension": ".py",
   "mimetype": "text/x-python",
   "name": "python",
   "nbconvert_exporter": "python",
   "pygments_lexer": "ipython3",
   "version": "3.9.23"
  }
 },
 "nbformat": 4,
 "nbformat_minor": 5
}
