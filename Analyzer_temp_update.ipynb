{
  "cells": [
    {
      "cell_type": "code",
      "execution_count": 1,
      "id": "fc7f71cb",
      "metadata": {
        "id": "fc7f71cb"
      },
      "outputs": [],
      "source": [
        "import pandas as pd\n",
        "import numpy as np\n",
        "import matplotlib.pyplot as plt\n",
        "import seaborn as sns\n",
        "import scipy.stats as stats\n",
        "import warnings\n",
        "from scipy.stats import chi2_contingency\n",
        "\n",
        "warnings.filterwarnings('ignore')\n",
        "sns.set_style(\"whitegrid\")"
      ]
    },
    {
      "cell_type": "code",
      "execution_count": 23,
      "id": "02c7e55f",
      "metadata": {
        "id": "02c7e55f"
      },
      "outputs": [],
      "source": [
        "class Analyzer:\n",
        "    def __init__(self):\n",
        "        self.A = None\n",
        "        self.B = None\n",
        "        self.testtype = None\n",
        "        self.result = None\n",
        "\n",
        "\n",
        "    def fit(self, a, b, column_a=None, column_b=None):\n",
        "        \"\"\"\n",
        "            This method assigns the data after fixing the format and check for their lengths.\n",
        "        \"\"\"\n",
        "        format_checked_a = self.format_prepare(a, column_a)\n",
        "        format_checked_b = self.format_prepare(b, column_b)\n",
        "\n",
        "        if len(format_checked_a) != len(format_checked_b):\n",
        "            raise ValueError(\"x and y must have the same length.\")\n",
        "        self.A = format_checked_a\n",
        "        self.B = format_checked_b\n",
        "\n",
        "    def summary_check(self):\n",
        "        return {\n",
        "            \"x_shape\": self.A.shape,\n",
        "            \"y_shape\": self.B.shape,\n",
        "            \"x_dtype\": self.A.dtype,\n",
        "            \"y_dtype\": self.B.dtype\n",
        "        }\n",
        "\n",
        "\n",
        "    def format_prepare(self, data, column=None):\n",
        "        \"\"\"\n",
        "            This method should check for the data to be of right format.\n",
        "            For example if the data is a DataFrame, it should change the data to Series or numpy array.\n",
        "        \"\"\"\n",
        "        if isinstance(data, np.ndarray):\n",
        "            if data.ndim > 1:\n",
        "                return data.flatten()\n",
        "            return data\n",
        "\n",
        "        elif isinstance(data, pd.Series):\n",
        "            return data.values\n",
        "\n",
        "        elif isinstance(data, pd.DataFrame):\n",
        "            if column is None:\n",
        "                if data.shape[1] == 1:\n",
        "                    return data.iloc[:, 0].values\n",
        "                else:\n",
        "                    raise ValueError(\"DataFrame has multiple columns. Please specify 'column'.\")\n",
        "            else:\n",
        "                if column not in data.columns:\n",
        "                    raise ValueError(f\"Column '{column}' not found in DataFrame.\")\n",
        "                return data[column].values\n",
        "        elif isinstance(data, list):\n",
        "            return np.array(data)\n",
        "\n",
        "        else:\n",
        "            raise TypeError(\"Unsupported data type. Use list, numpy array, pandas Series, or DataFrame.\")\n",
        "\n",
        "    def analyze(self):\n",
        "        \"\"\"\"\n",
        "            This method is the analysis starter. it has to check the data for normality and\n",
        "            also should distinguish between independent and paired data.\n",
        "            after all the necessary operation before tests, __do_test is called to do the test.\n",
        "        \"\"\"\n",
        "        if self.A is None or self.B is None:\n",
        "            raise Exception(\"A and B are empty. You must specify data group a and b with object.fit(a, b).\")\n",
        "\n",
        "        normal_a = stats.shapiro(self.A)\n",
        "        normal_b = stats.shapiro(self.B)\n",
        "        normal = normal_a & normal_b\n",
        "        if normal:\n",
        "            self.__initial_test('t-test')\n",
        "        else:\n",
        "            self.__initial_test('mann-whitney-u')\n",
        "        #TODO: Check for independant or paired (usually user should specify that).\n",
        "\n",
        "\n",
        "    def __initial_test(self, test):\n",
        "        if test == 't-test':\n",
        "            self.result = stats.ttest_ind(self.A, self.B)\n",
        "        elif test == 'mann-whitney-u':\n",
        "            self.result = stats.mannwhitneyu(self.A, self.B)\n",
        "\n",
        "    def interpret(self):\n",
        "        if self.A is None or self.B is None:\n",
        "            raise Exception('A and B are empty. You must specify data group a and b with object.fit(a, b).')\n",
        "        score, p_val = self.result\n",
        "        if p_val < 0.05:\n",
        "            print('Rejecting H0 hypothesis')\n",
        "        else:\n",
        "            print('Cannot reject H0.')\n",
        "\n",
        "    def __plot_single_numeric(data, name):\n",
        "        fig, ax = plt.subplots(2, 2, figsize=(16, 7), gridspec_kw={'height_ratios':(.85, .15)})\n",
        "        sns.histplot(data, kde=True, ax=ax[0, 0], color='#55A868')\n",
        "        sns.boxplot(data, orient='h', ax=ax[1, 0], color=\"#5583A8\")\n",
        "        counts, bin_edges = np.histogram(data, bins=10, density = True)\n",
        "        pdf = counts / (sum(counts))\n",
        "        cdf = np.cumsum(pdf)\n",
        "        ax[1, 1] = plt.subplot(122)\n",
        "        plt.plot(bin_edges[1:], pdf, label='PDF')\n",
        "        plt.plot(bin_edges[1:], cdf, label='CDF')\n",
        "        plt.legend()\n",
        "        ax[0, 0].set_xticklabels([])\n",
        "        ax[1, 0].set_yticklabels([])\n",
        "        ax[0, 0].set_xlabel('')\n",
        "        ax[0, 0].set_ylabel('Count')\n",
        "        fig.suptitle(name, fontsize=30)\n",
        "        plt.xticks(rotation=45)\n",
        "        plt.tight_layout()\n",
        "        plt.show()\n",
        "\n",
        "    def __plot_groups_numerical(self):\n",
        "        fig, ax = plt.subplots(2, 2, figsize=(15, 10))\n",
        "        #TODO: the structure of data must be specified for this function.\n",
        "        # # First plot: A histogram of two groups\n",
        "        # sns.histplot(data=[self.A, self.B]],\n",
        "        #             x=num_col, hue=target_col,\n",
        "        #             kde=True,\n",
        "        #             ax=ax[0, 0],\n",
        "        #             element='step',\n",
        "        #             palette='Pastel1',\n",
        "        #             alpha=0.7)\n",
        "        # ax[0, 0].set_xlabel('')\n",
        "        # legend = ax[0, 0].get_legend()\n",
        "        # handles = legend.legend_handles\n",
        "        # ax[0, 0].legend(handles, ['No', 'Yes'], title=target_col)\n",
        "\n",
        "        # # Second plot: Box plots of two Groups\n",
        "        # sns.boxplot(data = df, x=target_col, y=num_col, palette='Pastel1', ax=ax[0, 1])\n",
        "        # ax[0, 1].set_xticklabels([])\n",
        "        # ax[0, 1].set_xlabel('')\n",
        "        # # Third plot: Violen plot\n",
        "        # sns.violinplot(data=df, x=target_col, y=num_col, palette='Pastel1', ax=ax[1, 1])\n",
        "        # ax[1, 1].set_xticks([0, 1], ['No', 'Yes'])\n",
        "        # # Forth plot: Q-Q plot\n",
        "        # stats.probplot(df[num_col], plot=ax[1, 0])\n",
        "        # fig.tight_layout()\n",
        "        # plt.show()\n",
        "\n",
        "    def visual_description(self):\n",
        "        \"\"\"\n",
        "        This method draws related plots. it can be used alongside interpret for better understanding or\n",
        "        it can be used seperately to give a visual on two groups of data.\n",
        "        \"\"\"\n",
        "        if self.A is None or self.B is None:\n",
        "            raise Exception('A and B are empty. You must specify data group a and b with object.fit(a, b).')\n",
        "\n"
      ]
    },
    {
      "cell_type": "code",
      "execution_count": 34,
      "id": "67313a55",
      "metadata": {
        "id": "67313a55"
      },
      "outputs": [],
      "source": [
        "x = [22, 23, 24, 25]\n",
        "df = df = pd.DataFrame({\n",
        "    \"age\": [20, 22, 25, 30],\n",
        "    \"score\": [70, 80, 90, 85]\n",
        "})\n",
        "\n",
        "stat_ob = Analyzer()"
      ]
    },
    {
      "cell_type": "code",
      "source": [
        "stat_ob.fit(x, df[\"score\"])"
      ],
      "metadata": {
        "id": "blNcm_VbtZV7"
      },
      "id": "blNcm_VbtZV7",
      "execution_count": 36,
      "outputs": []
    },
    {
      "cell_type": "code",
      "source": [
        "stat_ob.summary_check()"
      ],
      "metadata": {
        "colab": {
          "base_uri": "https://localhost:8080/"
        },
        "id": "pCgBtykmtsLu",
        "outputId": "d74ed0b7-9814-462d-b55e-3f7b036cea58"
      },
      "id": "pCgBtykmtsLu",
      "execution_count": 37,
      "outputs": [
        {
          "output_type": "execute_result",
          "data": {
            "text/plain": [
              "{'x_shape': (4,),\n",
              " 'y_shape': (4,),\n",
              " 'x_dtype': dtype('int64'),\n",
              " 'y_dtype': dtype('int64')}"
            ]
          },
          "metadata": {},
          "execution_count": 37
        }
      ]
    },
    {
      "cell_type": "code",
      "source": [],
      "metadata": {
        "id": "R9dQ-XTLujSr"
      },
      "id": "R9dQ-XTLujSr",
      "execution_count": null,
      "outputs": []
    }
  ],
  "metadata": {
    "kernelspec": {
      "display_name": "QBX",
      "language": "python",
      "name": "python3"
    },
    "language_info": {
      "codemirror_mode": {
        "name": "ipython",
        "version": 3
      },
      "file_extension": ".py",
      "mimetype": "text/x-python",
      "name": "python",
      "nbconvert_exporter": "python",
      "pygments_lexer": "ipython3",
      "version": "3.9.23"
    },
    "colab": {
      "provenance": []
    }
  },
  "nbformat": 4,
  "nbformat_minor": 5
}