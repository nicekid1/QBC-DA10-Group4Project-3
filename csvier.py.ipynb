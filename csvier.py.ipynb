{
 "cells": [
  {
   "cell_type": "code",
   "id": "initial_id",
   "metadata": {
    "collapsed": true,
    "ExecuteTime": {
     "end_time": "2025-09-29T08:01:03.768614Z",
     "start_time": "2025-09-29T08:01:03.728905Z"
    }
   },
   "source": [
    "import pandas as pd\n",
    "import mysql.connector\n",
    "import json"
   ],
   "outputs": [],
   "execution_count": 1
  },
  {
   "metadata": {
    "ExecuteTime": {
     "end_time": "2025-09-29T08:11:32.703390Z",
     "start_time": "2025-09-29T08:11:32.699810Z"
    }
   },
   "cell_type": "code",
   "source": [
    "def query_to_pd(query, columns):\n",
    "    cursor.execute(query)\n",
    "    data = cursor.fetchall()\n",
    "    df = pd.DataFrame(data, columns=columns)\n",
    "    return df.reset_index(drop=True)"
   ],
   "id": "121e26abf5be61d4",
   "outputs": [],
   "execution_count": 6
  },
  {
   "metadata": {
    "ExecuteTime": {
     "end_time": "2025-09-29T08:11:35.505650Z",
     "start_time": "2025-09-29T08:11:35.444229Z"
    }
   },
   "cell_type": "code",
   "source": [
    "with open('database_init.json') as file:\n",
    "    db_config = json.load(file)\n",
    "db_name = \"NBA_DB\"\n",
    "try:\n",
    "    temp_config = db_config.copy()\n",
    "    cnxn = mysql.connector.connect(**temp_config)\n",
    "    cnxn.database = db_name\n",
    "    cursor = cnxn.cursor()\n",
    "    query = \"\"\"SELECT PLAYERS_DETAIL.FULL_NAME,\n",
    "                      PLAYERS_DETAIL.HEIGHT\n",
    "               FROM PLAYERS_DETAIL\n",
    "                        JOIN AWARDS ON AWARDS.player_id = PLAYERS_DETAIL.player_id\n",
    "               WHERE AWARDS.SEASON IN (2019, 2020, 2021, 2022, 2023, 2024);\"\"\"\n",
    "    query_to_pd(query, ['full_name', 'height']).to_csv('csv1_1.csv', index=False)\n",
    "    query = \"\"\"\n",
    "            SELECT FULL_NAME,\n",
    "                   HEIGHT,\n",
    "                   SEASON\n",
    "            FROM PLAYERS_DETAIL\n",
    "                     JOIN TOP_PLAYERS ON TOP_PLAYERS.player_id = PLAYERS_DETAIL.player_id\n",
    "            WHERE TOP_PLAYERS.season IN (2019, 2020, 2021, 2022, 2023, 2024)\n",
    "            GROUP BY FULL_NAME, HEIGHT, SEASON;\"\"\"\n",
    "    query_to_pd(query, ['full_name', 'height', 'season']).to_csv('csv1_2.csv', index=False)\n",
    "    query = \"\"\"\n",
    "            select FULL_NAME, HEIGHT, (YEAR - YEAR_MIN) AS EXPERIENCE, YEAR AS SEASON\n",
    "            from WINNER_TEAMS\n",
    "                join PLAYERS_DETAIL\n",
    "            on WINNER_TEAMS.player_id = PLAYERS_DETAIL.player_id\n",
    "            where WINNER_TEAMS.YEAR in (2023, 2024)\n",
    "            group by FULL_NAME, HEIGHT, (YEAR - YEAR_MIN), YEAR; \\\n",
    "            \"\"\"\n",
    "    query_to_pd(query, ['full_name', 'height', 'experience', 'season']).to_csv('csv2_1.csv', index=False)\n",
    "    query = \"\"\"\n",
    "            SELECT FULL_NAME, HEIGHT, (SEASON - YEAR_MIN) AS EXPERIENCE, SEASON\n",
    "            FROM TOP_PLAYERS\n",
    "                     JOIN PLAYERS_DETAIL ON TOP_PLAYERS.player_id = PLAYERS_DETAIL.player_id\n",
    "            WHERE TOP_PLAYERS.SEASON IN (2023, 2024)\n",
    "              AND TOP_PLAYERS.Rk <= 15\n",
    "            GROUP BY FULL_NAME, HEIGHT, (SEASON - YEAR_MIN), SEASON; \\\n",
    "            \"\"\"\n",
    "    query_to_pd(query, ['full_name', 'height', 'experience', 'season']).to_csv('csv2_2.csv', index=False)\n",
    "except Exception as e:\n",
    "    print(e)\n",
    "finally:\n",
    "    if 'cnxn' in locals() and cnxn.is_connected():\n",
    "        cursor.close()\n",
    "        cnxn.close()\n",
    "        print(\"Connection Closed.\")"
   ],
   "id": "21541a2686ad00e",
   "outputs": [
    {
     "name": "stdout",
     "output_type": "stream",
     "text": [
      "Connection Closed.\n"
     ]
    }
   ],
   "execution_count": 7
  },
  {
   "metadata": {},
   "cell_type": "code",
   "outputs": [],
   "execution_count": null,
   "source": "",
   "id": "300a65e0bcb5dfae"
  }
 ],
 "metadata": {
  "kernelspec": {
   "display_name": "Python 3",
   "language": "python",
   "name": "python3"
  },
  "language_info": {
   "codemirror_mode": {
    "name": "ipython",
    "version": 2
   },
   "file_extension": ".py",
   "mimetype": "text/x-python",
   "name": "python",
   "nbconvert_exporter": "python",
   "pygments_lexer": "ipython2",
   "version": "2.7.6"
  }
 },
 "nbformat": 4,
 "nbformat_minor": 5
}
