{
 "cells": [
  {
   "cell_type": "code",
   "id": "initial_id",
   "metadata": {
    "collapsed": true,
    "ExecuteTime": {
     "end_time": "2025-09-28T16:50:28.323595Z",
     "start_time": "2025-09-28T16:50:28.319370Z"
    }
   },
   "source": [
    "import pandas as pd\n",
    "import mysql.connector\n",
    "import json"
   ],
   "outputs": [],
   "execution_count": 5
  },
  {
   "metadata": {
    "ExecuteTime": {
     "end_time": "2025-09-28T16:50:29.730683Z",
     "start_time": "2025-09-28T16:50:29.673919Z"
    }
   },
   "cell_type": "code",
   "source": [
    "with open('database_init.json') as file:\n",
    "    db_config = json.load(file)\n",
    "db_name = \"NBA_DB\"\n",
    "try:\n",
    "    temp_config = db_config.copy()\n",
    "    cnxn = mysql.connector.connect(**temp_config)\n",
    "    cnxn.database = db_name\n",
    "    cursor = cnxn.cursor()\n",
    "    query = \"\"\"SELECT NAME,\n",
    "                      HEIGHT\n",
    "               FROM PLAYERS_DETAIL\n",
    "                        JOIN AWARDS ON AWARDS.player_id = PLAYERS_DETAIL.player_id\n",
    "               WHERE AWARDS.SEASON IN (2019, 2020, 2021, 2022, 2023, 2024);\"\"\"\n",
    "    cursor.execute(query)\n",
    "    data = cursor.fetchall()\n",
    "    pd.DataFrame(data).to_csv('csv1_1.csv')\n",
    "    query = \"\"\"\n",
    "            SELECT NAME,\n",
    "                   HEIGHT\n",
    "            FROM PLAYERS_DETAIL\n",
    "                     JOIN TOP_PLAYERS ON TOP_PLAYERS.player_id = PLAYERS_DETAIL.player_id\n",
    "            WHERE TOP_PLAYERS.season IN (2019, 2020, 2021, 2022, 2023, 2024)\n",
    "            GROUP BY NAME, HEIGHT;\"\"\"\n",
    "    cursor.execute(query)\n",
    "    data = cursor.fetchall()\n",
    "    pd.DataFrame(data).to_csv('csv1_2.csv')\n",
    "except Exception as e:\n",
    "    print(e)\n",
    "finally:\n",
    "    if 'cnxn' in locals() and cnxn.is_connected():\n",
    "        cursor.close()\n",
    "        cnxn.close()\n",
    "        print(\"Connection Closed.\")"
   ],
   "id": "21541a2686ad00e",
   "outputs": [
    {
     "name": "stdout",
     "output_type": "stream",
     "text": [
      "Connection Closed.\n"
     ]
    }
   ],
   "execution_count": 6
  },
  {
   "metadata": {},
   "cell_type": "code",
   "outputs": [],
   "execution_count": null,
   "source": "",
   "id": "300a65e0bcb5dfae"
  }
 ],
 "metadata": {
  "kernelspec": {
   "display_name": "Python 3",
   "language": "python",
   "name": "python3"
  },
  "language_info": {
   "codemirror_mode": {
    "name": "ipython",
    "version": 2
   },
   "file_extension": ".py",
   "mimetype": "text/x-python",
   "name": "python",
   "nbconvert_exporter": "python",
   "pygments_lexer": "ipython2",
   "version": "2.7.6"
  }
 },
 "nbformat": 4,
 "nbformat_minor": 5
}
